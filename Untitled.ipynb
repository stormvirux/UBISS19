{
 "cells": [
  {
   "cell_type": "code",
   "execution_count": 7,
   "metadata": {},
   "outputs": [
    {
     "name": "stdout",
     "output_type": "stream",
     "text": [
      "Done\n"
     ]
    }
   ],
   "source": [
    "import sys\n",
    "import wave\n",
    "\n",
    "with open('download.raw', 'rb') as pcmfile:\n",
    "    pcmdata = pcmfile.read()\n",
    "wavfile = wave.open('download.wav', 'wb')\n",
    "wavfile.setparams((2, 2, 8000, 0, 'NONE', 'NONE'))\n",
    "wavfile.writeframes(pcmdata)\n",
    "wavfile.close()\n",
    "print(\"Done\")"
   ]
  }
 ],
 "metadata": {
  "kernelspec": {
   "display_name": "Python 2",
   "language": "python",
   "name": "python2"
  },
  "language_info": {
   "codemirror_mode": {
    "name": "ipython",
    "version": 2
   },
   "file_extension": ".py",
   "mimetype": "text/x-python",
   "name": "python",
   "nbconvert_exporter": "python",
   "pygments_lexer": "ipython2",
   "version": "2.7.16"
  }
 },
 "nbformat": 4,
 "nbformat_minor": 2
}
